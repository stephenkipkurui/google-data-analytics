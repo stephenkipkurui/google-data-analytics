{
 "cells": [
  {
   "cell_type": "markdown",
   "id": "a9c7d891",
   "metadata": {},
   "source": [
    "# Google Data Analytics \n",
    "\n",
    "- __Pipe-line/ Data Analysis Process:__\n",
    "   - Ask\n",
    "   - Prepare\n",
    "   - Process\n",
    "   - Analyze \n",
    "   - Share\n",
    "   - Act\n",
    "   \n",
    "- __Data Life Cycle:__\n",
    "    - Plan\n",
    "    - Capture\n",
    "    - Manage\n",
    "    - Analyze\n",
    "    - Archive \n",
    "    - Destroy\n",
    "   \n",
    "   \n",
    "- __Cheat Sheets:__\n",
    "\n",
    "- Google Speadsheet https://support.google.com/a/users/answer/9300022\\\n",
    "- SQL:\n",
    "    - Complete SQL Course https://www.w3schools.com/sql/default.asp\n",
    "    - Cheat Sheet https://towardsdatascience.com/sql-cheat-sheet-776f8e3189fa\n",
    "    - Date/time https://towardsdatascience.com/date-time-functions-in-sql-1885e2cbdc1a\n",
    "    - Window Function https://towardsdatascience.com/intro-to-window-functions-in-sql-23ecdc7c1ceb\n",
    "    - Common Table Expression https://towardsdatascience.com/using-ctes-to-improve-sql-queries-dfcb04b7edf0\n",
    "    - \n",
    "    \n",
    "    \n",
    "    "
   ]
  },
  {
   "cell_type": "code",
   "execution_count": null,
   "id": "ca345e05",
   "metadata": {},
   "outputs": [],
   "source": []
  }
 ],
 "metadata": {
  "kernelspec": {
   "display_name": "Python 3 (ipykernel)",
   "language": "python",
   "name": "python3"
  },
  "language_info": {
   "codemirror_mode": {
    "name": "ipython",
    "version": 3
   },
   "file_extension": ".py",
   "mimetype": "text/x-python",
   "name": "python",
   "nbconvert_exporter": "python",
   "pygments_lexer": "ipython3",
   "version": "3.9.7"
  }
 },
 "nbformat": 4,
 "nbformat_minor": 5
}
