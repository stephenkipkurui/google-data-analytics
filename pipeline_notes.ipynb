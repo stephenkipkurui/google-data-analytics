{
 "cells": [
  {
   "cell_type": "markdown",
   "id": "a9c7d891",
   "metadata": {},
   "source": [
    "# Google Data Analytics \n",
    "\n",
    "Data- A collection of facts\n",
    "\n",
    "- __Pipe-line/ Data Analysis Process:__\n",
    "   - Ask\n",
    "   - Prepare\n",
    "   - Process\n",
    "   - Analyze \n",
    "   - Share\n",
    "   - Act\n",
    "   \n",
    "- __Data Life Cycle:__\n",
    "\n",
    "        Plan  --> Capture --> Manage --> Analyze --> Archive --> Destroy\n",
    "   \n",
    "   \n",
    "- __Cheat Sheets:__\n",
    "\n",
    "- Google Speadsheet https://support.google.com/a/users/answer/9300022\\\n",
    "- SQL:\n",
    "    - Complete SQL Course https://www.w3schools.com/sql/default.asp\n",
    "    - Cheat Sheet https://towardsdatascience.com/sql-cheat-sheet-776f8e3189fa\n",
    "    - Date/time https://towardsdatascience.com/date-time-functions-in-sql-1885e2cbdc1a\n",
    "    - Window Function https://towardsdatascience.com/intro-to-window-functions-in-sql-23ecdc7c1ceb\n",
    "    - Common Table Expression https://towardsdatascience.com/using-ctes-to-improve-sql-queries-dfcb04b7edf0\n",
    "\n",
    "\n",
    "    **Content credit to www.w3schools.com**\n",
    "    \n",
    "- RStudio:\n",
    "    - Cheat Sheets https://www.rstudio.com/resources/cheatsheets/\n",
    "    \n",
    "    \n",
    "    "
   ]
  },
  {
   "cell_type": "markdown",
   "id": "d3b07208",
   "metadata": {},
   "source": [
    "## Problem-solving / Effective Questioning\n",
    "\n",
    "\n",
    "### Common Data Analysts Problems:\n",
    "- Making predictions (Future predictions)\n",
    "- Categorizing things (by common features)\n",
    "- Spotting something unusual (anomaly)\n",
    "- Identifying themes (group into broader concepts)\n",
    "- Discovering connvections (find similar challenges by similar entities, chain challenges between tiers)\n",
    "- Finding patterns (habits, story)\n",
    "\n",
    "\n",
    "### SMART questions:\n",
    "\n",
    "    S - Specific (address the problem)\n",
    "    M - Measurable (Quantifiable)\n",
    "    A - Action oriented (Encourage change)\n",
    "    R - Relevant (relate to problem)\n",
    "    T - Time-bound questions (time bound)\n",
    "    \n",
    "    Remember `fairness` coming up with these questions to avoid reinforced bias\n",
    "    \n",
    "    Specific: Does the question focus on a particular car feature?\n",
    "\n",
    "__Measurable:__ Does the question include a feature rating system?\n",
    "\n",
    "__Action-oriented:__ Does the question influence creation of different or new feature packages?\n",
    "\n",
    "__Relevant:__ Does the question identify which features make or break a potential car purchase?\n",
    "\n",
    "__Time-bound:__ Does the question validate data on the most popular features from the last three years? \n",
    "\n",
    "### Avoid:\n",
    "    - Leading questions\n",
    "    - Closed-ended qiestions\n",
    "    - Vague questions\n"
   ]
  },
  {
   "cell_type": "markdown",
   "id": "12cf1bea",
   "metadata": {},
   "source": [
    "#### Data Types:\n",
    "- `Quantitative data` - specific and objective measures of numerical facts. \n",
    "    - Numbers\n",
    "    - Surveys\n",
    "    - Polls\n",
    "- `Qualitative data` - subjective or explanatory measures of qualities and characteristics. Best for answering the `why` questions. \n",
    "    - Focus group\n",
    "    - Social media texts analysis\n",
    "    - In-person interviews\n",
    "    \n",
    "Quantitative data generally gives you the `wha`, and qualitative data generally gives you the `why`.\n",
    "    \n",
    "    \n",
    "    \n",
    "__Metric__ - single, quantifiable type of data that can be used for measurement\n",
    "\n",
    "__ROI__ = (net profit / cost of investment)\n",
    "\n",
    "#### Dashboards:\n",
    "- `Strategic:` focuses on long term goals and strategies at the highest level of metrics\n",
    "\n",
    "- `Operational:` short-term performance tracking and intermediate goals\n",
    "\n",
    "- `Analytical:` consists of the datasets and the mathematics used in these sets"
   ]
  },
  {
   "cell_type": "markdown",
   "id": "c801c96c",
   "metadata": {},
   "source": [
    "#### Small Data:\n",
    "- Specific metric over short well defined period\n",
    "- Well organized\n",
    "- Analyzed in spreadsheets\n",
    "- Simple to collect, store, manage, sort, and represent\n",
    "\n",
    "#### Big Data:\n",
    "- Large, less specific covering long period\n",
    "- Stored in database\n",
    "- Takes time to collect, store, manage, and represent\n",
    "- Broken into small sets to analyze\n",
    "\n",
    "\n",
    "#### The 4 Vs for Big Data:\n",
    "    (a). Volume  - amount of data\n",
    "    (b). Variety - different data types\n",
    "    (c). Velocity - how fast data can be processed\n",
    "    (d). Veracity - quality and reliability of data"
   ]
  },
  {
   "cell_type": "markdown",
   "id": "66d8b94a",
   "metadata": {},
   "source": [
    "### SpreadSheets\n",
    "\n",
    "#### Errors:"
   ]
  },
  {
   "cell_type": "markdown",
   "id": "a34c6825",
   "metadata": {},
   "source": [
    "| Error | Description | Example |\n",
    "| :--- | :--- | :--- |\n",
    "| #DIV/0! | A formula is trying to divide a value in a cell by 0 (or an empty cell with no value) | =B2/B3, when the cell B3 contains the value 0  |\n",
    "| #ERROR! | (Google Sheets only)  Something can’t be interpreted as it has been input. This is also known as a parsing error. | =COUNT(B1:D1 C1:C10) is invalid because the cell ranges aren't separated by a comma |\n",
    "| #N/A | A formula can't find the data | The cell being referenced can't be found  |\n",
    "| #NAME? | The name of a formula or function used isn't recognized | The name of a function is misspelled |\n",
    "| #NUM! | The spreadsheet can't perform a formula calculation because a cell has an invalid numeric value | =DATEDIF(A4, B4, \"M\")  is unable to calculate the number of months between two dates because the date in cell A4 falls after the date in cell B4 |\n",
    "| #REF! | A formula is referencing a cell that isn't valid | A cell used in a formula was in a column that was deleted |\n",
    "| #VALUE! | A general error indicating a problem with a formula or with referenced cells | There could be problems with spaces or text, or with referenced cells in a formula; you may have additional work to find the source of the problem. |\n"
   ]
  },
  {
   "cell_type": "code",
   "execution_count": null,
   "id": "ace9da88",
   "metadata": {},
   "outputs": [],
   "source": []
  },
  {
   "cell_type": "code",
   "execution_count": null,
   "id": "3d39dd32",
   "metadata": {},
   "outputs": [],
   "source": []
  }
 ],
 "metadata": {
  "kernelspec": {
   "display_name": "Python 3 (ipykernel)",
   "language": "python",
   "name": "python3"
  },
  "language_info": {
   "codemirror_mode": {
    "name": "ipython",
    "version": 3
   },
   "file_extension": ".py",
   "mimetype": "text/x-python",
   "name": "python",
   "nbconvert_exporter": "python",
   "pygments_lexer": "ipython3",
   "version": "3.9.7"
  }
 },
 "nbformat": 4,
 "nbformat_minor": 5
}
